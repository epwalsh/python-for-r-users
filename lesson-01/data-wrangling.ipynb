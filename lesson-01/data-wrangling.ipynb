{
 "cells": [
  {
   "cell_type": "markdown",
   "metadata": {},
   "source": [
    "# Data wrangling tutorial for Python with pandas\n",
    "\n",
    "This pandas tutorial mimicks the familiar [dplyr example with the NYC Flights dataset](https://cran.rstudio.com/web/packages/dplyr/vignettes/introduction.html) and the [reshape2 example with the Air Quality dataset](http://seananderson.ca/2013/10/19/reshape.html)."
   ]
  },
  {
   "cell_type": "markdown",
   "metadata": {},
   "source": [
    "## First up: basics, slicing, and aggregating"
   ]
  },
  {
   "cell_type": "markdown",
   "metadata": {},
   "source": [
    "**R code:**\n",
    "\n",
    "```R\n",
    "library(dplyr)\n",
    "```\n",
    "\n",
    "**Python equivalent:**"
   ]
  },
  {
   "cell_type": "code",
   "execution_count": 1,
   "metadata": {
    "collapsed": true
   },
   "outputs": [],
   "source": [
    "%matplotlib notebook\n",
    "import pandas as pd"
   ]
  },
  {
   "cell_type": "markdown",
   "metadata": {},
   "source": [
    "Note that the first line above is only used to tell Jupyter to make plots inline.\n",
    "\n",
    "**R code:**\n",
    "\n",
    "```R\n",
    "df <- read.csv(\"./data/flights.csv\")\n",
    "```\n",
    "\n",
    "**Python equivalent:**"
   ]
  },
  {
   "cell_type": "code",
   "execution_count": null,
   "metadata": {},
   "outputs": [],
   "source": []
  },
  {
   "cell_type": "markdown",
   "metadata": {},
   "source": [
    "**R code:**\n",
    "\n",
    "```R\n",
    "dim(df)\n",
    "```\n",
    "\n",
    "**Python equivalent:**"
   ]
  },
  {
   "cell_type": "code",
   "execution_count": null,
   "metadata": {},
   "outputs": [],
   "source": []
  },
  {
   "cell_type": "markdown",
   "metadata": {},
   "source": [
    "**R code:**\n",
    "\n",
    "```R\n",
    "head(df)\n",
    "```\n",
    "\n",
    "**Python equivalent:**"
   ]
  },
  {
   "cell_type": "code",
   "execution_count": null,
   "metadata": {},
   "outputs": [],
   "source": []
  },
  {
   "cell_type": "markdown",
   "metadata": {},
   "source": [
    "**R code:**\n",
    "\n",
    "```R\n",
    "head(filter(df, month == 1, day == 1))\n",
    "```\n",
    "\n",
    "**Python equivalent:**"
   ]
  },
  {
   "cell_type": "code",
   "execution_count": null,
   "metadata": {},
   "outputs": [],
   "source": []
  },
  {
   "cell_type": "markdown",
   "metadata": {},
   "source": [
    "**R code:**\n",
    "\n",
    "```R\n",
    "head(filter(df, month == 1 | month == 2))\n",
    "```\n",
    "\n",
    "**Python equivalent:**"
   ]
  },
  {
   "cell_type": "code",
   "execution_count": null,
   "metadata": {},
   "outputs": [],
   "source": []
  },
  {
   "cell_type": "markdown",
   "metadata": {},
   "source": [
    "**R code:**\n",
    "\n",
    "```R\n",
    "head(filter(df, month == 1 | month == 2))\n",
    "```\n",
    "\n",
    "**Python equivalent:**"
   ]
  },
  {
   "cell_type": "code",
   "execution_count": null,
   "metadata": {},
   "outputs": [],
   "source": []
  },
  {
   "cell_type": "markdown",
   "metadata": {},
   "source": [
    "**R code:**\n",
    "\n",
    "```R\n",
    "head(arrange(df, desc(arr_delay)))\n",
    "```\n",
    "\n",
    "**Python equivalent:**"
   ]
  },
  {
   "cell_type": "code",
   "execution_count": null,
   "metadata": {},
   "outputs": [],
   "source": []
  },
  {
   "cell_type": "markdown",
   "metadata": {},
   "source": [
    "**R code:**\n",
    "\n",
    "```R\n",
    "head(select(df, year, month, day))\n",
    "```\n",
    "\n",
    "**Python equivalent:**"
   ]
  },
  {
   "cell_type": "code",
   "execution_count": null,
   "metadata": {},
   "outputs": [],
   "source": []
  },
  {
   "cell_type": "markdown",
   "metadata": {},
   "source": [
    "**R code:**\n",
    "\n",
    "```R\n",
    "head(select(df, year:day))\n",
    "```\n",
    "\n",
    "**Python equivalent:**"
   ]
  },
  {
   "cell_type": "code",
   "execution_count": null,
   "metadata": {},
   "outputs": [],
   "source": []
  },
  {
   "cell_type": "markdown",
   "metadata": {},
   "source": [
    "**R code:**\n",
    "\n",
    "```R\n",
    "head(select(df, -(year:day)))\n",
    "```\n",
    "\n",
    "**Python equivalent:**"
   ]
  },
  {
   "cell_type": "code",
   "execution_count": null,
   "metadata": {},
   "outputs": [],
   "source": []
  },
  {
   "cell_type": "markdown",
   "metadata": {},
   "source": [
    "**R code:**\n",
    "\n",
    "```R\n",
    "df <- rename(df, tail_num = tailnum)\n",
    "head(df)\n",
    "```\n",
    "\n",
    "**Python equivalent:**"
   ]
  },
  {
   "cell_type": "code",
   "execution_count": null,
   "metadata": {},
   "outputs": [],
   "source": []
  },
  {
   "cell_type": "markdown",
   "metadata": {},
   "source": [
    "**R code:**\n",
    "\n",
    "```R\n",
    "distinct(df, tailnum)\n",
    "```\n",
    "\n",
    "**Python equivalent:**"
   ]
  },
  {
   "cell_type": "code",
   "execution_count": null,
   "metadata": {},
   "outputs": [],
   "source": []
  },
  {
   "cell_type": "markdown",
   "metadata": {},
   "source": [
    "**R code:**\n",
    "\n",
    "```R\n",
    "unique_vals <- distinct(df, origin, dest)\n",
    "```\n",
    "\n",
    "**Python equivalent:**"
   ]
  },
  {
   "cell_type": "code",
   "execution_count": null,
   "metadata": {},
   "outputs": [],
   "source": []
  },
  {
   "cell_type": "markdown",
   "metadata": {},
   "source": [
    "**R code:**\n",
    "\n",
    "```R\n",
    "mutate(df, \n",
    "       gain = arr_delay - dep_delay,\n",
    "       speed = distance / air_time * 60)\n",
    "```\n",
    "\n",
    "**Python equivalent:**"
   ]
  },
  {
   "cell_type": "code",
   "execution_count": null,
   "metadata": {},
   "outputs": [],
   "source": []
  },
  {
   "cell_type": "markdown",
   "metadata": {},
   "source": [
    "**R code:**\n",
    "\n",
    "```R\n",
    "summarise(df, \n",
    "          delay = mean(dep_delay, na.rm = TRUE))\n",
    "```\n",
    "\n",
    "**Python equivalent:**"
   ]
  },
  {
   "cell_type": "code",
   "execution_count": null,
   "metadata": {},
   "outputs": [],
   "source": []
  },
  {
   "cell_type": "markdown",
   "metadata": {},
   "source": [
    "**R code:**\n",
    "\n",
    "```R\n",
    "sample_n(df, 5)\n",
    "```\n",
    "\n",
    "**Python equivalent:**"
   ]
  },
  {
   "cell_type": "code",
   "execution_count": null,
   "metadata": {},
   "outputs": [],
   "source": []
  },
  {
   "cell_type": "markdown",
   "metadata": {},
   "source": [
    "**R code:**\n",
    "\n",
    "```R\n",
    "dim(sample_frac(df, 0.01))\n",
    "```\n",
    "\n",
    "**Python equivalent:**"
   ]
  },
  {
   "cell_type": "code",
   "execution_count": null,
   "metadata": {},
   "outputs": [],
   "source": []
  },
  {
   "cell_type": "markdown",
   "metadata": {},
   "source": [
    "**R code:**\n",
    "\n",
    "```R\n",
    "summary <- df %>% group_by(tail_num) %>% \n",
    "  summarise(count = n(),\n",
    "            dist = mean(distance, na.rm = TRUE),\n",
    "            delay = mean(arr_delay, na.rm = TRUE))\n",
    "```\n",
    "\n",
    "**Python equivalent:**"
   ]
  },
  {
   "cell_type": "code",
   "execution_count": null,
   "metadata": {
    "scrolled": false
   },
   "outputs": [],
   "source": []
  },
  {
   "cell_type": "markdown",
   "metadata": {},
   "source": [
    "**R code:**\n",
    "\n",
    "```R\n",
    "delay <- summary %>% filter(count > 20, dist < 2000)\n",
    "head(delay)\n",
    "```\n",
    "\n",
    "**Python equivalent:**"
   ]
  },
  {
   "cell_type": "code",
   "execution_count": null,
   "metadata": {},
   "outputs": [],
   "source": []
  },
  {
   "cell_type": "code",
   "execution_count": null,
   "metadata": {},
   "outputs": [],
   "source": []
  },
  {
   "cell_type": "code",
   "execution_count": null,
   "metadata": {},
   "outputs": [],
   "source": []
  },
  {
   "cell_type": "markdown",
   "metadata": {},
   "source": [
    "**R code:**\n",
    "\n",
    "```R\n",
    "ggplot(delay, aes(dist, delay)) +\n",
    "  geom_point(aes(size = count), alpha = 1/2)\n",
    "```\n",
    "\n",
    "**Python equivalent:**"
   ]
  },
  {
   "cell_type": "code",
   "execution_count": null,
   "metadata": {
    "scrolled": false
   },
   "outputs": [],
   "source": []
  },
  {
   "cell_type": "markdown",
   "metadata": {},
   "source": [
    "**R code:**\n",
    "\n",
    "```R\n",
    "destinations <- flights %>% group_by(dest)\n",
    "  summarise(planes = n_distinct(tail_num),\n",
    "            flights = n())\n",
    "```\n",
    "\n",
    "**Python equivalent:**"
   ]
  },
  {
   "cell_type": "code",
   "execution_count": null,
   "metadata": {},
   "outputs": [],
   "source": []
  },
  {
   "cell_type": "markdown",
   "metadata": {},
   "source": [
    "## Next up: melting and casting"
   ]
  },
  {
   "cell_type": "markdown",
   "metadata": {},
   "source": [
    "**R code:**\n",
    "\n",
    "```R\n",
    "airquality <- read.csv(\"./data/airquality.csv\")\n",
    "head(airquality)\n",
    "```\n",
    "\n",
    "**Python equivalent:**"
   ]
  },
  {
   "cell_type": "code",
   "execution_count": null,
   "metadata": {},
   "outputs": [],
   "source": []
  },
  {
   "cell_type": "markdown",
   "metadata": {},
   "source": [
    "**R code:**\n",
    "\n",
    "```R\n",
    "aql <- melt(airquality, id.vars = c(\"month\", \"day\"))\n",
    "head(aql)\n",
    "```\n",
    "\n",
    "**Python equivalent:**"
   ]
  },
  {
   "cell_type": "code",
   "execution_count": null,
   "metadata": {},
   "outputs": [],
   "source": []
  },
  {
   "cell_type": "markdown",
   "metadata": {},
   "source": [
    "**R code:**\n",
    "\n",
    "```R\n",
    "aql <- melt(airquality, id.vars = c(\"month\", \"day\"),\n",
    "  variable.name = \"climate_variable\", \n",
    "  value.name = \"climate_value\")\n",
    "head(aql)\n",
    "```\n",
    "\n",
    "**Python equivalent:**"
   ]
  },
  {
   "cell_type": "code",
   "execution_count": null,
   "metadata": {},
   "outputs": [],
   "source": []
  },
  {
   "cell_type": "markdown",
   "metadata": {},
   "source": [
    "**R code:**\n",
    "\n",
    "```R\n",
    "aql <- melt(airquality, id.vars = c(\"month\", \"day\"))\n",
    "aqw <- dcast(aql, month + day ~ variable)\n",
    "head(aqw)\n",
    "```\n",
    "\n",
    "**Python equivalent:**"
   ]
  },
  {
   "cell_type": "code",
   "execution_count": null,
   "metadata": {},
   "outputs": [],
   "source": []
  }
 ],
 "metadata": {
  "kernelspec": {
   "display_name": "Python 3",
   "language": "python",
   "name": "python3"
  },
  "language_info": {
   "codemirror_mode": {
    "name": "ipython",
    "version": 3
   },
   "file_extension": ".py",
   "mimetype": "text/x-python",
   "name": "python",
   "nbconvert_exporter": "python",
   "pygments_lexer": "ipython3",
   "version": "3.5.2"
  }
 },
 "nbformat": 4,
 "nbformat_minor": 1
}
