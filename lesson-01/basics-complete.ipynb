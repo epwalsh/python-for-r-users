{
 "cells": [
  {
   "cell_type": "markdown",
   "metadata": {},
   "source": [
    "## Data types\n",
    "----"
   ]
  },
  {
   "cell_type": "markdown",
   "metadata": {},
   "source": [
    "The first we'll do is make sure that Python 2 acts like Python 3, so that everything we do in this tutorial can be run with either Python 2 or Python 3."
   ]
  },
  {
   "cell_type": "code",
   "execution_count": 2,
   "metadata": {
    "collapsed": true
   },
   "outputs": [],
   "source": [
    "from __future__ import absolute_import\n",
    "from __future__ import division\n",
    "from __future__ import print_function"
   ]
  },
  {
   "cell_type": "markdown",
   "metadata": {},
   "source": [
    "### `int`"
   ]
  },
  {
   "cell_type": "code",
   "execution_count": 3,
   "metadata": {},
   "outputs": [
    {
     "name": "stdout",
     "output_type": "stream",
     "text": [
      "3\n"
     ]
    }
   ],
   "source": [
    "x = 2\n",
    "x += 1\n",
    "\n",
    "print(x)"
   ]
  },
  {
   "cell_type": "markdown",
   "metadata": {},
   "source": [
    "### `float`"
   ]
  },
  {
   "cell_type": "code",
   "execution_count": 4,
   "metadata": {},
   "outputs": [
    {
     "name": "stdout",
     "output_type": "stream",
     "text": [
      "4.0\n"
     ]
    }
   ],
   "source": [
    "y = 2.0\n",
    "\n",
    "print(y**2)"
   ]
  },
  {
   "cell_type": "markdown",
   "metadata": {},
   "source": [
    "### `str`"
   ]
  },
  {
   "cell_type": "code",
   "execution_count": 5,
   "metadata": {},
   "outputs": [
    {
     "name": "stdout",
     "output_type": "stream",
     "text": [
      "pete\n"
     ]
    }
   ],
   "source": [
    "myname = 'Pete'\n",
    "\n",
    "print(myname.lower())"
   ]
  },
  {
   "cell_type": "markdown",
   "metadata": {},
   "source": [
    "### `bool`"
   ]
  },
  {
   "cell_type": "code",
   "execution_count": 6,
   "metadata": {},
   "outputs": [
    {
     "name": "stdout",
     "output_type": "stream",
     "text": [
      "Yay!\n"
     ]
    }
   ],
   "source": [
    "a = True\n",
    "b = False\n",
    "\n",
    "if a:\n",
    "    print(\"Yay!\")"
   ]
  },
  {
   "cell_type": "markdown",
   "metadata": {},
   "source": [
    "### `list`"
   ]
  },
  {
   "cell_type": "code",
   "execution_count": 8,
   "metadata": {},
   "outputs": [
    {
     "name": "stdout",
     "output_type": "stream",
     "text": [
      "1 4\n",
      "My list has 4 things in it\n"
     ]
    }
   ],
   "source": [
    "mylist = [1, 2, 3, 4]\n",
    "\n",
    "print(mylist[0], mylist[-1])\n",
    "print('My list has %d things in it' % len(mylist))"
   ]
  },
  {
   "cell_type": "code",
   "execution_count": 9,
   "metadata": {},
   "outputs": [
    {
     "name": "stdout",
     "output_type": "stream",
     "text": [
      "[1, 2, 0, 4]\n"
     ]
    }
   ],
   "source": [
    "# Lists are mutable\n",
    "mylist[2] = 0\n",
    "\n",
    "print(mylist)"
   ]
  },
  {
   "cell_type": "markdown",
   "metadata": {},
   "source": [
    "### `dict`"
   ]
  },
  {
   "cell_type": "code",
   "execution_count": 10,
   "metadata": {},
   "outputs": [
    {
     "name": "stdout",
     "output_type": "stream",
     "text": [
      "1\n",
      "3\n"
     ]
    }
   ],
   "source": [
    "d = {'a': 1, 'b': 3}\n",
    "\n",
    "for k in d.keys():\n",
    "    print(d[k])"
   ]
  },
  {
   "cell_type": "code",
   "execution_count": 11,
   "metadata": {},
   "outputs": [
    {
     "name": "stdout",
     "output_type": "stream",
     "text": [
      "{'a': 1, 'b': 3, 'c': [1, 2, 0, 4]}\n"
     ]
    }
   ],
   "source": [
    "# Dictionaries are also mutable\n",
    "d['c'] = mylist\n",
    "\n",
    "print(d)"
   ]
  },
  {
   "cell_type": "markdown",
   "metadata": {},
   "source": [
    "## Functions\n",
    "----"
   ]
  },
  {
   "cell_type": "code",
   "execution_count": 12,
   "metadata": {},
   "outputs": [
    {
     "name": "stdout",
     "output_type": "stream",
     "text": [
      "1 2\n"
     ]
    }
   ],
   "source": [
    "def swap(x, y):\n",
    "    \"\"\"Bad attempt to swap the values of x and y.\"\"\"\n",
    "    tmp = y\n",
    "    y = x\n",
    "    x = tmp\n",
    "    return None  # The return statement here is not necessary\n",
    "\n",
    "x = 1\n",
    "y = 2\n",
    "swap(x, y)\n",
    "print(x, y)"
   ]
  },
  {
   "cell_type": "code",
   "execution_count": 13,
   "metadata": {},
   "outputs": [
    {
     "name": "stdout",
     "output_type": "stream",
     "text": [
      "Before swap: 1st element = 1, 2nd element = 2.\n",
      "After swap: 1st element = 2, 2nd element = 1.\n"
     ]
    }
   ],
   "source": [
    "def swap2(alist):\n",
    "    \"\"\"Fixed attempt to swap values.\"\"\"\n",
    "    tmp = alist[1]\n",
    "    alist[1] = alist[0]\n",
    "    alist[0] = tmp\n",
    "    return None\n",
    "\n",
    "mylist2 = [x, y]\n",
    "print(\"Before swap: 1st element = %d, 2nd element = %d.\" % (mylist2[0], \n",
    "                                                            mylist2[1]))\n",
    "swap2(mylist2)\n",
    "print(\"After swap: 1st element = %d, 2nd element = %d.\" % (mylist2[0], \n",
    "                                                           mylist2[1]))"
   ]
  },
  {
   "cell_type": "markdown",
   "metadata": {},
   "source": [
    "## Classes\n",
    "---"
   ]
  },
  {
   "cell_type": "code",
   "execution_count": 15,
   "metadata": {},
   "outputs": [
    {
     "name": "stdout",
     "output_type": "stream",
     "text": [
      "PETE\n",
      "Did something.\n"
     ]
    }
   ],
   "source": [
    "class MyClass(object):\n",
    "    \"\"\"This is a class.\"\"\"\n",
    "    \n",
    "    def __init__(self, name):\n",
    "        \"\"\"This is a special function that is triggered was instantiate an object of this type.\"\"\"\n",
    "        self.name = name\n",
    "        \n",
    "    def get_name(self):\n",
    "        \"\"\"This is a method for MyClass. Every method must take `self` as an argument.\"\"\"\n",
    "        return self.name\n",
    "    \n",
    "    def get_uppercase_name(self):\n",
    "        return self.name.upper()\n",
    "    \n",
    "instance = MyClass(\"pete\")\n",
    "print(instance.get_uppercase_name())\n",
    "\n",
    "\n",
    "class AnotherClass(object):\n",
    "    \n",
    "    def do_something(self):\n",
    "        return \"Did something.\"\n",
    "        \n",
    "another = AnotherClass()\n",
    "print(another.do_something())"
   ]
  },
  {
   "cell_type": "markdown",
   "metadata": {},
   "source": [
    "## List comprehension\n",
    "----"
   ]
  },
  {
   "cell_type": "code",
   "execution_count": 16,
   "metadata": {},
   "outputs": [
    {
     "name": "stdout",
     "output_type": "stream",
     "text": [
      "[0, 1, -1, 3]\n"
     ]
    }
   ],
   "source": [
    "mylist3 = [x - 1 for x in mylist]\n",
    "print(mylist3)"
   ]
  },
  {
   "cell_type": "code",
   "execution_count": 17,
   "metadata": {},
   "outputs": [
    {
     "name": "stdout",
     "output_type": "stream",
     "text": [
      "[0, 1, 1, 9]\n"
     ]
    }
   ],
   "source": [
    "print([x**2 for x in mylist3])"
   ]
  },
  {
   "cell_type": "code",
   "execution_count": 19,
   "metadata": {},
   "outputs": [
    {
     "name": "stdout",
     "output_type": "stream",
     "text": [
      "['Jim McDonald', 'Joe McDonald', 'Jamal McDonald', 'Jackie McDonald']\n"
     ]
    }
   ],
   "source": [
    "def to_name(s):\n",
    "    \"\"\"Change a string to titlecase.\"\"\"\n",
    "    return s.title() + \" McDonald\"\n",
    "\n",
    "\n",
    "mylist4 = [\"jim\", \"joe\", \"jamal\", \"jackie\"]\n",
    "print([to_name(x) for x in mylist4])"
   ]
  },
  {
   "cell_type": "markdown",
   "metadata": {},
   "source": [
    "## Map, reduce, filter\n",
    "----"
   ]
  },
  {
   "cell_type": "markdown",
   "metadata": {},
   "source": [
    "`map` is a function that takes two arguments: another function and a list. The function passed as the first argument is applied to each element of the list, and a list of the same size is returned."
   ]
  },
  {
   "cell_type": "code",
   "execution_count": 21,
   "metadata": {},
   "outputs": [
    {
     "name": "stdout",
     "output_type": "stream",
     "text": [
      "[0, 1, 4, 9]\n"
     ]
    }
   ],
   "source": [
    "def square(x):\n",
    "    \"\"\"Function to apply to list using map.\"\"\"\n",
    "    return x**2\n",
    "\n",
    "print(list(map(square, [0, 1, 2, 3])))"
   ]
  },
  {
   "cell_type": "markdown",
   "metadata": {},
   "source": [
    "`reduce` is like `map` in that it takes two arguments: another function and a list. But instead applying a function independently to each element in a list, `reduce` applies to the function to the next element of the list and previous value that was returned by the function."
   ]
  },
  {
   "cell_type": "code",
   "execution_count": 22,
   "metadata": {},
   "outputs": [
    {
     "name": "stdout",
     "output_type": "stream",
     "text": [
      "3\n"
     ]
    }
   ],
   "source": [
    "from functools import reduce\n",
    "\n",
    "def maximum(x, y):\n",
    "    \"\"\"Functions to apply to list using reduce.\"\"\"\n",
    "    if x < y:\n",
    "        return y\n",
    "    return x\n",
    "    \n",
    "print(reduce(maximum, [0, 3, 1, 1, 2]))"
   ]
  },
  {
   "cell_type": "markdown",
   "metadata": {},
   "source": [
    "Like `map` and `reduce`, `filter` is a function that takes two arguments, another function and a list. With `filter`, a list is returned that is a subset of the original list. The values that are kept are determined by the function passed to `filter`."
   ]
  },
  {
   "cell_type": "code",
   "execution_count": 24,
   "metadata": {},
   "outputs": [
    {
     "name": "stdout",
     "output_type": "stream",
     "text": [
      "[0, 1, 2, 3, 4, 5, 6, 7, 8, 9]\n"
     ]
    }
   ],
   "source": [
    "mylist5 = list(range(10))\n",
    "print(mylist5)"
   ]
  },
  {
   "cell_type": "code",
   "execution_count": 27,
   "metadata": {},
   "outputs": [
    {
     "name": "stdout",
     "output_type": "stream",
     "text": [
      "[0, 1, 2, 3, 4, 5]\n"
     ]
    }
   ],
   "source": [
    "def is_five_or_less(x):\n",
    "    \"\"\"Functions to apply to list using the filter functions.\"\"\"\n",
    "    if x <= 5:\n",
    "        return True\n",
    "    return False\n",
    "\n",
    "print(list(filter(is_five_or_less, mylist5)))"
   ]
  },
  {
   "cell_type": "markdown",
   "metadata": {},
   "source": [
    "## Lambda functions\n",
    "----\n",
    "\n",
    "Lambda functions are one-line, anonymous functions (i.e. there are not bound to a name by runtime)."
   ]
  },
  {
   "cell_type": "code",
   "execution_count": 28,
   "metadata": {},
   "outputs": [
    {
     "name": "stdout",
     "output_type": "stream",
     "text": [
      "4\n"
     ]
    }
   ],
   "source": [
    "f = lambda x: x**2\n",
    "print(f(2))"
   ]
  },
  {
   "cell_type": "code",
   "execution_count": 30,
   "metadata": {},
   "outputs": [
    {
     "name": "stdout",
     "output_type": "stream",
     "text": [
      "[0, 1, 4, 9]\n"
     ]
    }
   ],
   "source": [
    "print(list(map(lambda x: x**2, [0, 1, 2, 3])))"
   ]
  },
  {
   "cell_type": "code",
   "execution_count": 33,
   "metadata": {},
   "outputs": [
    {
     "name": "stdout",
     "output_type": "stream",
     "text": [
      "7\n"
     ]
    }
   ],
   "source": [
    "print(reduce(lambda x, y: x + y, [0, 3, 1, 1, 2]))"
   ]
  },
  {
   "cell_type": "code",
   "execution_count": 34,
   "metadata": {},
   "outputs": [
    {
     "name": "stdout",
     "output_type": "stream",
     "text": [
      "[0, 1, 2, 3, 4, 5]\n"
     ]
    }
   ],
   "source": [
    "print(list(filter(lambda x: x <= 5, mylist5)))"
   ]
  },
  {
   "cell_type": "markdown",
   "metadata": {},
   "source": [
    "----\n",
    "# Exercises\n",
    "----"
   ]
  },
  {
   "cell_type": "markdown",
   "metadata": {},
   "source": [
    "1. The `max` function is a standard function in Python that returns the maximum value of a list. Use `reduce` to find the maximum value of a list with using the `max` function. (Hint: find out how you can write an \"if else\" statement on one line)\n",
    "2. Use `filter` to filter out all of the odd numbers in a list. (Hint: find out how to take a number modulo another number)\n",
    "3. Use list comprehension instead of `filter` to remove the odd numbers from a list.\n",
    "4. Use `reduce` to concatenate a list of strings with a space in between each pair.\n",
    "5. Find out how to reverse the operation you did in 4 using a single standard function / method."
   ]
  },
  {
   "cell_type": "markdown",
   "metadata": {},
   "source": [
    "## Solutions\n",
    "---"
   ]
  },
  {
   "cell_type": "code",
   "execution_count": 48,
   "metadata": {},
   "outputs": [
    {
     "data": {
      "text/plain": [
       "10"
      ]
     },
     "execution_count": 48,
     "metadata": {},
     "output_type": "execute_result"
    }
   ],
   "source": [
    "# 1 \n",
    "reduce(lambda x, y: x if x > y else y, [0, -1, 10, 5])"
   ]
  },
  {
   "cell_type": "code",
   "execution_count": 49,
   "metadata": {},
   "outputs": [
    {
     "data": {
      "text/plain": [
       "[0, 2, 4]"
      ]
     },
     "execution_count": 49,
     "metadata": {},
     "output_type": "execute_result"
    }
   ],
   "source": [
    "# 2\n",
    "filter(lambda x: x % 2 == 0, [1, 0, 2, 3, 4, 5])"
   ]
  },
  {
   "cell_type": "code",
   "execution_count": 50,
   "metadata": {},
   "outputs": [
    {
     "data": {
      "text/plain": [
       "[0, 2, 4]"
      ]
     },
     "execution_count": 50,
     "metadata": {},
     "output_type": "execute_result"
    }
   ],
   "source": [
    "# 3\n",
    "[x for x in [1, 0, 2, 3, 4, 5] if x % 2 == 0]"
   ]
  },
  {
   "cell_type": "code",
   "execution_count": 55,
   "metadata": {},
   "outputs": [
    {
     "data": {
      "text/plain": [
       "'my name is Pete'"
      ]
     },
     "execution_count": 55,
     "metadata": {},
     "output_type": "execute_result"
    }
   ],
   "source": [
    "# 4\n",
    "reduce(lambda x, y: x + \" \" + y, [\"my\", \"name\", \"is\", \"Pete\"])"
   ]
  },
  {
   "cell_type": "code",
   "execution_count": 63,
   "metadata": {},
   "outputs": [
    {
     "data": {
      "text/plain": [
       "['my', 'name', 'is', 'Pete']"
      ]
     },
     "execution_count": 63,
     "metadata": {},
     "output_type": "execute_result"
    }
   ],
   "source": [
    "# 5\n",
    "\"my name is Pete\".split(\" \")"
   ]
  }
 ],
 "metadata": {
  "kernelspec": {
   "display_name": "Python 3",
   "language": "python",
   "name": "python3"
  },
  "language_info": {
   "codemirror_mode": {
    "name": "ipython",
    "version": 3
   },
   "file_extension": ".py",
   "mimetype": "text/x-python",
   "name": "python",
   "nbconvert_exporter": "python",
   "pygments_lexer": "ipython3",
   "version": "3.5.2"
  }
 },
 "nbformat": 4,
 "nbformat_minor": 1
}
